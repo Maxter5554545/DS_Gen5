{
 "cells": [
  {
   "cell_type": "code",
   "execution_count": 5,
   "id": "b6616ec4-dea6-47d5-8c0f-29c0fe987853",
   "metadata": {},
   "outputs": [
    {
     "name": "stdout",
     "output_type": "stream",
     "text": [
      "1\n",
      "2\n",
      "3\n",
      "4\n"
     ]
    }
   ],
   "source": [
    "#1. Write a program to print numbers from 1 to 10, but stop if the number is 5.\n",
    "\n",
    "#Initialize the variable 'num' to start from 1\n",
    "num = 1\n",
    "\n",
    "#Using while loop & Setting the condition if the number reaches to 5 the loop breaks\n",
    "\n",
    "while num <=10:\n",
    "    if num == 5:\n",
    "        break\n",
    "    print(num)\n",
    "    num+=1"
   ]
  },
  {
   "cell_type": "code",
   "execution_count": 16,
   "id": "a7131220-3d0e-4520-a4e1-b4c8c72c8a67",
   "metadata": {},
   "outputs": [
    {
     "name": "stdout",
     "output_type": "stream",
     "text": [
      "Mrianl\n",
      "Devnath\n",
      "From\n",
      "Pwskills\n"
     ]
    }
   ],
   "source": [
    "#2. Write a program to iterate through a list and stop when encountering a specific element.\n",
    "\n",
    "ls = [\"Mrianl\", \"Devnath\", \"From\", \"Pwskills\"]  # Define a list 'ls'\n",
    "\n",
    "for i in ls: # Start a loop to iterate through each element in the list\n",
    "    \n",
    "    if i == \"From\":\n",
    "        \n",
    "        break  # If the current element is \"From\", exit the loop using the 'break' statement\n",
    "        \n",
    "    else: # If the current element is not \"From\"\n",
    "        \n",
    "        print(i) # Print the current element"
   ]
  },
  {
   "cell_type": "code",
   "execution_count": 10,
   "id": "20224da9-8a9a-4d5f-b05b-09c014129fa4",
   "metadata": {},
   "outputs": [
    {
     "name": "stdout",
     "output_type": "stream",
     "text": [
      "1\n",
      "3\n",
      "5\n",
      "7\n",
      "9\n"
     ]
    }
   ],
   "source": [
    "#3. Write a program to skip printing even numbers from 1 to 10.\n",
    "\n",
    "for i in range(1, 11):  # Loop through numbers from 1 to 10\n",
    "    \n",
    "    if i % 2 != 0:  # Check if the current number is not divisible by 2 (i.e., odd)\n",
    "        \n",
    "        print(i)  # Print the current number if it's odd\n"
   ]
  },
  {
   "cell_type": "code",
   "execution_count": 11,
   "id": "8cc67b44-f3f9-4a74-8831-0fc16e825395",
   "metadata": {},
   "outputs": [
    {
     "name": "stdout",
     "output_type": "stream",
     "text": [
      "0\n",
      "1\n",
      "2\n",
      "3\n",
      "4\n",
      "5\n",
      "6\n",
      "7\n",
      "8\n",
      "9\n"
     ]
    }
   ],
   "source": [
    "#4. Write a program to print numbers from 0 to 9 using range().\n",
    "\n",
    "for i in range(0, 10):  # Loop through numbers from 0 to 9\n",
    "    \n",
    "    print(i)  # Print the current number\n"
   ]
  },
  {
   "cell_type": "code",
   "execution_count": 27,
   "id": "5d4a3380-48ba-4244-8f7b-c94b2bc26f54",
   "metadata": {},
   "outputs": [
    {
     "name": "stdout",
     "output_type": "stream",
     "text": [
      "1 x 1 = 1\n",
      "1 x 2 = 2\n",
      "1 x 3 = 3\n",
      "1 x 4 = 4\n",
      "1 x 5 = 5\n",
      "1 x 6 = 6\n",
      "1 x 7 = 7\n",
      "1 x 8 = 8\n",
      "1 x 9 = 9\n",
      "1 x 10 = 10\n",
      "\n"
     ]
    }
   ],
   "source": [
    "#5. Write a program to print multiplication tables from 1 to 5, but stop after the first table is printed for each\n",
    "# number.\n",
    "\n",
    "for i in range(1, 6):\n",
    "    for j in range(1, 11):\n",
    "        print(f\"{i} x {j} = {i *j}\")\n",
    "    print()\n",
    "    break"
   ]
  },
  {
   "cell_type": "code",
   "execution_count": 28,
   "id": "36ae1635-e348-41e8-b25c-6338d9fa608a",
   "metadata": {},
   "outputs": [
    {
     "name": "stdin",
     "output_type": "stream",
     "text": [
      "enter the numbers:  45\n"
     ]
    },
    {
     "name": "stdout",
     "output_type": "stream",
     "text": [
      "1\n",
      "3\n",
      "5\n",
      "7\n",
      "9\n",
      "11\n",
      "13\n",
      "15\n",
      "17\n",
      "19\n",
      "21\n",
      "23\n",
      "25\n",
      "27\n",
      "29\n",
      "31\n",
      "33\n",
      "35\n",
      "37\n",
      "39\n",
      "41\n",
      "43\n",
      "45\n"
     ]
    }
   ],
   "source": [
    "#6. Write a program to skip printing even numbers using a while loop.\n",
    "\n",
    "num = int(input(\"enter the numbers: \"))\n",
    "even = 1\n",
    "while even <= num:\n",
    "    if even%2 != 0:\n",
    "        print(even)\n",
    "    even += 1"
   ]
  },
  {
   "cell_type": "code",
   "execution_count": null,
   "id": "8741d59f-7682-4d31-960a-a38730bf0eb3",
   "metadata": {},
   "outputs": [],
   "source": []
  }
 ],
 "metadata": {
  "kernelspec": {
   "display_name": "Python 3 (ipykernel)",
   "language": "python",
   "name": "python3"
  },
  "language_info": {
   "codemirror_mode": {
    "name": "ipython",
    "version": 3
   },
   "file_extension": ".py",
   "mimetype": "text/x-python",
   "name": "python",
   "nbconvert_exporter": "python",
   "pygments_lexer": "ipython3",
   "version": "3.10.8"
  }
 },
 "nbformat": 4,
 "nbformat_minor": 5
}
